{
 "cells": [
  {
   "cell_type": "markdown",
   "id": "497d9f90-82f2-48f5-aa7b-74a5f4b45ccd",
   "metadata": {},
   "source": [
    "<font size = 6>$\\Delta$CoVaR Data Preparation </font>\n",
    "<font size = 4><div style=\"text-align: right\"> Contributor: Haochen Jiang</div></font>\n",
    "<font size = 4><div style=\"text-align: right\"> May 6, 2022</div></font>"
   ]
  },
  {
   "cell_type": "code",
   "execution_count": 1,
   "id": "8012804a-b88d-474a-bce7-dcf16fa2fa58",
   "metadata": {
    "execution": {
     "iopub.execute_input": "2023-09-21T02:23:55.765238Z",
     "iopub.status.busy": "2023-09-21T02:23:55.764242Z",
     "iopub.status.idle": "2023-09-21T02:23:56.672295Z",
     "shell.execute_reply": "2023-09-21T02:23:56.672295Z",
     "shell.execute_reply.started": "2023-09-21T02:23:55.764242Z"
    }
   },
   "outputs": [],
   "source": [
    "import math\n",
    "import pandas as pd\n",
    "import numpy as np\n",
    "import datetime as dt\n",
    "import yfinance as yf\n",
    "import pandas_datareader.data as web\n",
    "\n",
    "from datetime import datetime"
   ]
  },
  {
   "cell_type": "markdown",
   "id": "44ff97bd-ec69-4177-8b1c-5034b9a76baf",
   "metadata": {},
   "source": [
    "<font size = 4>Please make sure to input your Data path in your computer in the following format</font>"
   ]
  },
  {
   "cell_type": "code",
   "execution_count": 3,
   "id": "e7134aa9-7e3b-468c-b5bc-3d4942109902",
   "metadata": {
    "execution": {
     "iopub.execute_input": "2022-05-20T21:38:31.972866Z",
     "iopub.status.busy": "2022-05-20T21:38:31.972866Z",
     "iopub.status.idle": "2022-05-20T21:38:31.985879Z",
     "shell.execute_reply": "2022-05-20T21:38:31.985879Z",
     "shell.execute_reply.started": "2022-05-20T21:38:31.972866Z"
    },
    "tags": []
   },
   "outputs": [],
   "source": [
    "path = \"D:\\\\Data\\\\\""
   ]
  },
  {
   "cell_type": "markdown",
   "id": "45ce0b44-d145-4e0d-adf2-1c5cdfc88a42",
   "metadata": {},
   "source": [
    "<font size = 4>Please make sure to research time period in your computer in the following format:\\\n",
    "By the way, however, S&P 500 real estate sector index data before 2002/2/11 and after 2021/12/31 is not available!</font>"
   ]
  },
  {
   "cell_type": "code",
   "execution_count": 4,
   "id": "2887cd69-cedb-460b-865c-10a91fed27c3",
   "metadata": {
    "execution": {
     "iopub.execute_input": "2022-05-20T21:38:31.987867Z",
     "iopub.status.busy": "2022-05-20T21:38:31.986868Z",
     "iopub.status.idle": "2022-05-20T21:38:32.001878Z",
     "shell.execute_reply": "2022-05-20T21:38:32.001878Z",
     "shell.execute_reply.started": "2022-05-20T21:38:31.987867Z"
    },
    "tags": []
   },
   "outputs": [],
   "source": [
    "start = dt.datetime(year=2002, month=12, day=31)\n",
    "end = dt.datetime(year=2021, month=12, day=31)"
   ]
  },
  {
   "cell_type": "markdown",
   "id": "1ee6c978-cab7-4dcb-a388-c19c8216ebd1",
   "metadata": {},
   "source": [
    "<font size = 4>Linux Debug Environment</font>"
   ]
  },
  {
   "cell_type": "code",
   "execution_count": 5,
   "id": "703c7e4f-a402-47df-a011-51ec93c84d9c",
   "metadata": {
    "execution": {
     "iopub.execute_input": "2022-05-20T21:38:32.002867Z",
     "iopub.status.busy": "2022-05-20T21:38:32.002867Z",
     "iopub.status.idle": "2022-05-20T21:38:32.018783Z",
     "shell.execute_reply": "2022-05-20T21:38:32.016754Z",
     "shell.execute_reply.started": "2022-05-20T21:38:32.002867Z"
    },
    "tags": []
   },
   "outputs": [],
   "source": [
    "#! pip install nlopt\n",
    "#! pip install yfinance\n",
    "#! pip install pandas_datareader"
   ]
  },
  {
   "cell_type": "code",
   "execution_count": 6,
   "id": "f1261cee-f727-41d0-a8cf-8c4e3758fb5b",
   "metadata": {
    "execution": {
     "iopub.execute_input": "2022-05-20T21:38:32.020752Z",
     "iopub.status.busy": "2022-05-20T21:38:32.019752Z",
     "iopub.status.idle": "2022-05-20T21:38:32.033753Z",
     "shell.execute_reply": "2022-05-20T21:38:32.032753Z",
     "shell.execute_reply.started": "2022-05-20T21:38:32.020752Z"
    },
    "tags": []
   },
   "outputs": [],
   "source": [
    "#path = \"/home/jovyan/demo/Data/\""
   ]
  },
  {
   "cell_type": "markdown",
   "id": "401e4aff-cb68-48f5-82e3-3fa3cb2095e3",
   "metadata": {},
   "source": [
    "# Load Data"
   ]
  },
  {
   "cell_type": "markdown",
   "id": "5ba3e41f-31ad-479c-b24b-84bf64f426f4",
   "metadata": {},
   "source": [
    "<font size = 4>Data Sources:\\\n",
    "#1. _updated_A_snp_tickers_sectors.csv\n",
    "It is found at https://en.wikipedia.org/wiki/List_of_S%26P_500_companies\n",
    "Last change was on April 21, 2022.\n",
    "\\\n",
    "#2. _updated_B_DTB3.csv (First state variable, Second state variable)\n",
    "It is found at https://fred.stlouisfed.org/series/DTB3\n",
    "Last change was on April 21, 2022.\n",
    "\\\n",
    "#3. _updated_B_DLTBOARD.csv (Second state variable - first period)\n",
    "It is found at https://fred.stlouisfed.org/series/DLTBOARD\n",
    "Last change was on June 30, 2000.\n",
    "\\\n",
    "#4. _updated_C_USTREASURY-LONGTERMRATES.csv (Second state variable - second period)\n",
    "It is found at https://data.nasdaq.com/data/USTREASURY/LONGTERMRATES-treasury-long-term-rates\n",
    "Last change was on January 31, 2022.\n",
    "\\\n",
    "#5. _updated_B_TEDRATE.csv (Third state variable)\n",
    "It is found at https://fred.stlouisfed.org/series/TEDRATE\n",
    "Last change was on January 21, 2022.\n",
    "\\\n",
    "#6. _updated_B_DBAA.csv (Fourth state variable)\n",
    "It is found at https://fred.stlouisfed.org/series/DBAA\n",
    "Last change was on April 21, 2022.\n",
    "\\\n",
    "#7. _updated_B_DGS10.csv (Fourth state variable)\n",
    "It is found at https://fred.stlouisfed.org/series/DGS10\n",
    "Last change was on April 21, 2022.</font>"
   ]
  },
  {
   "cell_type": "code",
   "execution_count": 7,
   "id": "cd001c2a-57e7-4d75-91dc-8ade2e7d0830",
   "metadata": {
    "execution": {
     "iopub.execute_input": "2022-05-20T21:38:32.034752Z",
     "iopub.status.busy": "2022-05-20T21:38:32.034752Z",
     "iopub.status.idle": "2022-05-20T21:38:32.048765Z",
     "shell.execute_reply": "2022-05-20T21:38:32.048765Z",
     "shell.execute_reply.started": "2022-05-20T21:38:32.034752Z"
    },
    "tags": []
   },
   "outputs": [],
   "source": [
    "def interpolate(df):\n",
    "    df.replace('.', np.nan, inplace = True)\n",
    "    df = df.astype(\"float\")\n",
    "\n",
    "    missings = df[df.iloc[:, 0].isna()]\n",
    "    front_temp = (missings.index + dt.timedelta(days=1)).isin(list(df.index))\n",
    "    back_temp = (missings.index - dt.timedelta(days=1)).isin(list(df.index))\n",
    "    both = front_temp & back_temp\n",
    "    front = front_temp & ~back_temp\n",
    "    back = ~front_temp & back_temp\n",
    "    abnorm = ~front_temp & ~back_temp\n",
    "\n",
    "    df.loc[missings[back].index] = df.loc[missings[back].index - dt.timedelta(days = 1)].values\n",
    "    df.loc[missings[front].index] = df.loc[missings[front].index + dt.timedelta(days = 1)].values\n",
    "    df.loc[missings[both].index] = (\n",
    "        df.loc[missings[both].index + dt.timedelta(days=1)].values + df.loc[missings[both].index - dt.timedelta(days=1)].values) / 2\n",
    "\n",
    "    if True not in abnorm:\n",
    "        print(\"No abnormal value. Nothing abnormal has changed!\")\n",
    "    else:\n",
    "        print(\"There are %d abnormal values!\" % missings[abnorm].shape[0])\n",
    "        for i in list(missings[abnorm].index):\n",
    "            df[\"prev\"] = df.iloc[:, 0].shift()\n",
    "            df.loc[i, df.columns[0]] = df.loc[i, \"prev\"]\n",
    "            while math.isnan(df.loc[i, df.columns[0]]) == True:\n",
    "                df[\"prev\"] = df[\"prev\"].shift()\n",
    "                df.loc[i, df.columns[0]] = df.loc[i, \"prev\"] \n",
    "            df.drop(columns = [\"prev\"], inplace = True)\n",
    "\n",
    "    return df"
   ]
  },
  {
   "cell_type": "markdown",
   "id": "c41650d6-7e41-4390-9e4e-ec60849a6e28",
   "metadata": {},
   "source": [
    "## Load Stock Information Data "
   ]
  },
  {
   "cell_type": "code",
   "execution_count": 8,
   "id": "8c1c41d1-4db2-4fda-bcda-d4bc53c4300e",
   "metadata": {
    "execution": {
     "iopub.execute_input": "2022-05-20T21:38:32.051763Z",
     "iopub.status.busy": "2022-05-20T21:38:32.050764Z",
     "iopub.status.idle": "2022-05-20T21:38:32.065762Z",
     "shell.execute_reply": "2022-05-20T21:38:32.064762Z",
     "shell.execute_reply.started": "2022-05-20T21:38:32.051763Z"
    },
    "tags": []
   },
   "outputs": [
    {
     "name": "stdout",
     "output_type": "stream",
     "text": [
      "Number of stocks in S&P500: 504\n"
     ]
    }
   ],
   "source": [
    "# Load S&P 500 Sector Information\n",
    "sector = pd.read_csv(path + \"_updated_A_snp_tickers_sectors.csv\", index_col = 0)\n",
    "print(\"Number of stocks in S&P500: %d\" % sector.shape[0])\n",
    "# Make some necessary changes\n",
    "sector.rename(index = {\"BRK.B\": \"BRK-B\", \"BF.B\": \"BF-B\"}, inplace=True)"
   ]
  },
  {
   "cell_type": "markdown",
   "id": "7961d974-6ee2-4049-89f3-71cd61c1d681",
   "metadata": {},
   "source": [
    "## Download Data (Required by first time)"
   ]
  },
  {
   "cell_type": "code",
   "execution_count": 9,
   "id": "1e5ef72c-6072-40f3-8521-fbde573834ae",
   "metadata": {
    "execution": {
     "iopub.execute_input": "2022-05-20T21:38:32.066752Z",
     "iopub.status.busy": "2022-05-20T21:38:32.066752Z",
     "iopub.status.idle": "2022-05-20T21:38:32.083753Z",
     "shell.execute_reply": "2022-05-20T21:38:32.080752Z",
     "shell.execute_reply.started": "2022-05-20T21:38:32.066752Z"
    },
    "tags": []
   },
   "outputs": [],
   "source": [
    "# Create a New Directory in Windows Shell Command\n",
    "# Please make sure to be consistent with your input path!\n",
    "# !md \"D:\\\\Data\\\\stocks\""
   ]
  },
  {
   "cell_type": "code",
   "execution_count": 10,
   "id": "bf32eaa6-f57f-422e-9a54-cc40cfc8836a",
   "metadata": {
    "execution": {
     "iopub.execute_input": "2022-05-20T21:38:32.085752Z",
     "iopub.status.busy": "2022-05-20T21:38:32.084751Z",
     "iopub.status.idle": "2022-05-20T21:38:32.097752Z",
     "shell.execute_reply": "2022-05-20T21:38:32.096762Z",
     "shell.execute_reply.started": "2022-05-20T21:38:32.085752Z"
    },
    "tags": []
   },
   "outputs": [],
   "source": [
    "# # Download S&P 500 Data\n",
    "# system = yf.download('^GSPC', progress=False)\n",
    "# realEstate = yf.download('^SP500-60', progress=False)\n",
    "# financials = yf.download('^SP500-40', progress=False)\n",
    "# system.to_csv(path + \"stocks\\\\\" + \"_SNP500.csv\")\n",
    "# realEstate.to_csv(path + \"stocks\\\\\" + \"_SNP500_realEstate.csv\")\n",
    "# financials.to_csv(path + \"stocks\\\\\" + \"_SNP500_financials.csv\")"
   ]
  },
  {
   "cell_type": "code",
   "execution_count": 11,
   "id": "70f352ba-3317-4c05-af2c-ca891b833ace",
   "metadata": {
    "execution": {
     "iopub.execute_input": "2022-05-20T21:38:32.098764Z",
     "iopub.status.busy": "2022-05-20T21:38:32.097752Z",
     "iopub.status.idle": "2022-05-20T21:38:32.113753Z",
     "shell.execute_reply": "2022-05-20T21:38:32.112753Z",
     "shell.execute_reply.started": "2022-05-20T21:38:32.098764Z"
    },
    "tags": []
   },
   "outputs": [
    {
     "name": "stdout",
     "output_type": "stream",
     "text": [
      "Wall time: 0 ns\n"
     ]
    }
   ],
   "source": [
    "%%time\n",
    "# # Download Stocks Data\n",
    "# bad_names = []\n",
    "# for stock in list(sector.index):\n",
    "#    try:\n",
    "#        stock_df = web.DataReader(stock, 'yahoo', start = dt.date(1970,1,1))\n",
    "#        stock_df['Name'] = stock\n",
    "#        output_name = path + \"stocks\\\\\" + stock + \".csv\"\n",
    "#        stock_df.to_csv(output_name)\n",
    "#    except:\n",
    "#        bad_names.append(stock)\n",
    "#        print('Data Not Found in Yahoo: %s.' % (stock))\n",
    "#        #sector.drop(sector[sector.index == stock].index, inplace = True)\n",
    "#        #print('Remove %s info from sector.' % (stock))\n",
    "#\n",
    "# print(\"Stocks Data Downloading Ends.\")\n",
    "# if len(bad_names) == 0:\n",
    "#     print(\"All Stocks data are found.\")\n",
    "# else:\n",
    "#     print(\"Number of stocks now in S&P500: %d\" % sector.shape[0])"
   ]
  },
  {
   "cell_type": "markdown",
   "id": "7ae7470b-0ed1-409f-80c6-f9a6879557ee",
   "metadata": {},
   "source": [
    "## Load Market & Stocks prices Data "
   ]
  },
  {
   "cell_type": "code",
   "execution_count": 12,
   "id": "095b3426-fad1-47cf-b625-f5f3de8ae93f",
   "metadata": {
    "execution": {
     "iopub.execute_input": "2022-05-20T21:38:32.114754Z",
     "iopub.status.busy": "2022-05-20T21:38:32.113753Z",
     "iopub.status.idle": "2022-05-20T21:38:39.886863Z",
     "shell.execute_reply": "2022-05-20T21:38:39.886863Z",
     "shell.execute_reply.started": "2022-05-20T21:38:32.114754Z"
    },
    "tags": []
   },
   "outputs": [],
   "source": [
    "# Load S&P 500 Data\n",
    "system = pd.read_csv(path + \"stocks\\\\\" + \"_SNP500.csv\", index_col = 0, parse_dates = True)\n",
    "# Load S&P 500 Real Estate Sector Data\n",
    "realEstate = pd.read_csv(path + \"stocks\\\\\" + \"_SNP500_realEstate.csv\", index_col = 0, parse_dates = True)\n",
    "# Load S&P 500 Financials Sector Data\n",
    "financials = pd.read_csv(path + \"stocks\\\\\" + \"_SNP500_financials.csv\", index_col = 0, parse_dates = True)\n",
    "\n",
    "# Load Stocks prices Data\n",
    "stock_data = {}\n",
    "for stock in list(sector.index):\n",
    "    stock_df = pd.read_csv(path + \"stocks\\\\\" + stock + \".csv\", index_col = 0, parse_dates = True)\n",
    "    stock_data[stock] = stock_df"
   ]
  },
  {
   "cell_type": "markdown",
   "id": "51f6c0d9-44d8-4cb1-bb80-d5730b0b601a",
   "metadata": {},
   "source": [
    "## Load State Variables Data "
   ]
  },
  {
   "cell_type": "code",
   "execution_count": 13,
   "id": "813be1de-ca69-48fb-a1f0-7eb47278b3ee",
   "metadata": {
    "execution": {
     "iopub.execute_input": "2022-05-20T21:38:39.887864Z",
     "iopub.status.busy": "2022-05-20T21:38:39.887864Z",
     "iopub.status.idle": "2022-05-20T21:38:39.903863Z",
     "shell.execute_reply": "2022-05-20T21:38:39.902863Z",
     "shell.execute_reply.started": "2022-05-20T21:38:39.887864Z"
    },
    "tags": []
   },
   "outputs": [],
   "source": [
    "# pd.set_option('display.max_rows', None)"
   ]
  },
  {
   "cell_type": "markdown",
   "id": "69938721-04ed-4332-8ef5-c07a6778eadd",
   "metadata": {
    "tags": []
   },
   "source": [
    "### (i) Three-month yield Change\n",
    "The author use the change in the three-month Treasury bill rate because the author finds that the change, not the level, is most significant in explaining the tails of financial sector market-valued asset returns"
   ]
  },
  {
   "cell_type": "code",
   "execution_count": 14,
   "id": "2d0ce0d6-686e-4f3b-ae0d-0ddad2560243",
   "metadata": {
    "execution": {
     "iopub.execute_input": "2022-05-20T21:38:39.904864Z",
     "iopub.status.busy": "2022-05-20T21:38:39.903863Z",
     "iopub.status.idle": "2022-05-20T21:38:40.047404Z",
     "shell.execute_reply": "2022-05-20T21:38:40.046839Z",
     "shell.execute_reply.started": "2022-05-20T21:38:39.904864Z"
    },
    "tags": []
   },
   "outputs": [
    {
     "name": "stdout",
     "output_type": "stream",
     "text": [
      "No abnormal value. Nothing abnormal has changed!\n"
     ]
    }
   ],
   "source": [
    "DTB3 = pd.read_csv(path + \"_updated_B_DTB3.csv\", index_col = 0, parse_dates = True)\n",
    "DTB3 = interpolate(DTB3) / 100\n",
    "DTB3_change = DTB3.loc[:,\"DTB3\"].diff().dropna().rename(\"3MO_Yield_Change\")"
   ]
  },
  {
   "cell_type": "markdown",
   "id": "10041bed-b145-4bfd-a9e6-90121e8b4acc",
   "metadata": {
    "tags": []
   },
   "source": [
    "### (ii) Term spread Change\n",
    "Measured by the yield spread between the long term bond composite and the three-month bill rate"
   ]
  },
  {
   "cell_type": "code",
   "execution_count": 15,
   "id": "8f591a94-0aff-4865-9fd2-23a3ffed6b12",
   "metadata": {
    "execution": {
     "iopub.execute_input": "2022-05-20T21:38:40.048414Z",
     "iopub.status.busy": "2022-05-20T21:38:40.048414Z",
     "iopub.status.idle": "2022-05-20T21:38:40.079422Z",
     "shell.execute_reply": "2022-05-20T21:38:40.078490Z",
     "shell.execute_reply.started": "2022-05-20T21:38:40.048414Z"
    },
    "tags": []
   },
   "outputs": [],
   "source": [
    "EARLY_LONGRATES = pd.read_csv(path + \"_updated_B_DLTBOARD.csv\", index_col = 0, parse_dates = True)\n",
    "LATE_LONGRATES = pd.read_csv(path + \"_updated_C_USTREASURY-LONGTERMRATES.csv\", index_col = 0, parse_dates = True)"
   ]
  },
  {
   "cell_type": "code",
   "execution_count": 16,
   "id": "88590bef-b80d-4793-9dfe-c9a3ed29db55",
   "metadata": {
    "execution": {
     "iopub.execute_input": "2022-05-20T21:38:40.080414Z",
     "iopub.status.busy": "2022-05-20T21:38:40.080414Z",
     "iopub.status.idle": "2022-05-20T21:38:40.126418Z",
     "shell.execute_reply": "2022-05-20T21:38:40.125414Z",
     "shell.execute_reply.started": "2022-05-20T21:38:40.080414Z"
    },
    "tags": []
   },
   "outputs": [
    {
     "name": "stdout",
     "output_type": "stream",
     "text": [
      "No abnormal value. Nothing abnormal has changed!\n"
     ]
    }
   ],
   "source": [
    "EARLY_LONGRATES = interpolate(EARLY_LONGRATES)\n",
    "EARLY_LONGRATES.rename({\"DLTBOARD\": \"LONGRATES\"}, axis = 1, inplace = True)\n",
    "LATE_LONGRATES.drop(columns = [\"Treasury 20-Yr CMT\", \"Extrapolation Factor\"], inplace = True)\n",
    "LATE_LONGRATES.rename({\"LT Composite > 10 Yrs\": \"LONGRATES\"}, axis = 1, inplace = True)\n",
    "LATE_LONGRATES = LATE_LONGRATES[LATE_LONGRATES.index > EARLY_LONGRATES.index[-1]]\n",
    "LATE_LONGRATES.sort_index(ascending = True, inplace = True)\n",
    "LONGRATES = pd.concat([EARLY_LONGRATES, LATE_LONGRATES], axis = 0, join=\"outer\") / 100"
   ]
  },
  {
   "cell_type": "code",
   "execution_count": 17,
   "id": "18bd7737-9cbb-446b-9a69-9259e8ead614",
   "metadata": {
    "execution": {
     "iopub.execute_input": "2022-05-20T21:38:40.128414Z",
     "iopub.status.busy": "2022-05-20T21:38:40.128414Z",
     "iopub.status.idle": "2022-05-20T21:38:40.331422Z",
     "shell.execute_reply": "2022-05-20T21:38:40.330497Z",
     "shell.execute_reply.started": "2022-05-20T21:38:40.128414Z"
    },
    "tags": []
   },
   "outputs": [
    {
     "name": "stdout",
     "output_type": "stream",
     "text": [
      "No abnormal value. Nothing abnormal has changed!\n",
      "No abnormal value. Nothing abnormal has changed!\n"
     ]
    }
   ],
   "source": [
    "temp1 = pd.concat([DTB3, LONGRATES], axis = 1, join=\"outer\")\n",
    "temp1 = temp1[(temp1.index >= LONGRATES.index[0]) & (temp1.index <= LONGRATES.index[-1])]\n",
    "temp1.iloc[:,0] = interpolate(pd.DataFrame(temp1.iloc[:,0])).values\n",
    "temp1.iloc[:,1] = interpolate(pd.DataFrame(temp1.iloc[:,1])).values"
   ]
  },
  {
   "cell_type": "code",
   "execution_count": 18,
   "id": "c0bde3f8-8d3d-4ffd-873d-2d4c6c8ea899",
   "metadata": {
    "execution": {
     "iopub.execute_input": "2022-05-20T21:38:40.332423Z",
     "iopub.status.busy": "2022-05-20T21:38:40.331422Z",
     "iopub.status.idle": "2022-05-20T21:38:40.347426Z",
     "shell.execute_reply": "2022-05-20T21:38:40.346500Z",
     "shell.execute_reply.started": "2022-05-20T21:38:40.332423Z"
    },
    "tags": []
   },
   "outputs": [],
   "source": [
    "TERM_spread = temp1.loc[:,\"DTB3\"] - temp1.loc[:,\"LONGRATES\"]\n",
    "TERM_spread_change = TERM_spread.diff().dropna().rename(\"Term_Spread_Change\")"
   ]
  },
  {
   "cell_type": "markdown",
   "id": "ab78df28-27fc-487f-9db9-397416e4826f",
   "metadata": {},
   "source": [
    "### (iii) TED spread\n",
    "Defined as the difference between the three-month Libor rate and the three-month secondary market bill rate"
   ]
  },
  {
   "cell_type": "code",
   "execution_count": 19,
   "id": "b9f100ef-2293-495c-ae22-8ca00a9df615",
   "metadata": {
    "execution": {
     "iopub.execute_input": "2022-05-20T21:38:40.348467Z",
     "iopub.status.busy": "2022-05-20T21:38:40.348467Z",
     "iopub.status.idle": "2022-05-20T21:38:40.424469Z",
     "shell.execute_reply": "2022-05-20T21:38:40.424469Z",
     "shell.execute_reply.started": "2022-05-20T21:38:40.348467Z"
    },
    "tags": []
   },
   "outputs": [
    {
     "name": "stdout",
     "output_type": "stream",
     "text": [
      "No abnormal value. Nothing abnormal has changed!\n"
     ]
    }
   ],
   "source": [
    "TED_spread = pd.read_csv(path + \"_updated_B_TEDRATE.csv\", index_col = 0, parse_dates = True)\n",
    "TED_spread = interpolate(TED_spread) / 100\n",
    "TED_spread = TED_spread.loc[:,\"TEDRATE\"].rename(\"TED_Spread\")"
   ]
  },
  {
   "cell_type": "markdown",
   "id": "a5937c62-bc4c-4a53-ba51-928acb383a8b",
   "metadata": {},
   "source": [
    "### (iv) Credit spread Change\n",
    "Between Moody's Baa-rated bonds and the ten year Treasury rate"
   ]
  },
  {
   "cell_type": "code",
   "execution_count": 20,
   "id": "e955ef7b-a927-4554-bf3b-bd935b778462",
   "metadata": {
    "execution": {
     "iopub.execute_input": "2022-05-20T21:38:40.425422Z",
     "iopub.status.busy": "2022-05-20T21:38:40.425422Z",
     "iopub.status.idle": "2022-05-20T21:38:40.661846Z",
     "shell.execute_reply": "2022-05-20T21:38:40.660844Z",
     "shell.execute_reply.started": "2022-05-20T21:38:40.425422Z"
    },
    "tags": []
   },
   "outputs": [
    {
     "name": "stdout",
     "output_type": "stream",
     "text": [
      "No abnormal value. Nothing abnormal has changed!\n",
      "No abnormal value. Nothing abnormal has changed!\n"
     ]
    }
   ],
   "source": [
    "DBAA = pd.read_csv(path + \"_updated_B_DBAA.csv\", index_col = 0, parse_dates = True)\n",
    "DBAA = interpolate(DBAA) / 100\n",
    "DGS10 = pd.read_csv(path + \"_updated_B_DGS10.csv\", index_col = 0, parse_dates = True)\n",
    "DGS10 = interpolate(DGS10) / 100"
   ]
  },
  {
   "cell_type": "code",
   "execution_count": 21,
   "id": "c05548fb-2699-4df9-b03d-b9dc0da40a97",
   "metadata": {
    "execution": {
     "iopub.execute_input": "2022-05-20T21:38:40.662845Z",
     "iopub.status.busy": "2022-05-20T21:38:40.662845Z",
     "iopub.status.idle": "2022-05-20T21:38:40.678844Z",
     "shell.execute_reply": "2022-05-20T21:38:40.676851Z",
     "shell.execute_reply.started": "2022-05-20T21:38:40.662845Z"
    },
    "tags": []
   },
   "outputs": [],
   "source": [
    "temp2 = pd.concat([DBAA, DGS10], axis = 1, join=\"outer\")\n",
    "temp2 = temp2[(temp2.index >= DBAA.index[0])]\n",
    "CREDIT_spread = temp2.loc[:,\"DBAA\"] - temp2.loc[:,\"DGS10\"]\n",
    "CREDIT_spread_change = CREDIT_spread.diff().dropna().rename(\"Credit_Spread_Change\")"
   ]
  },
  {
   "cell_type": "markdown",
   "id": "06b07155-f1ec-4fc7-bc02-7bb2fff16a3d",
   "metadata": {},
   "source": [
    "### (v) Market Return"
   ]
  },
  {
   "cell_type": "code",
   "execution_count": 22,
   "id": "9659bca7-d358-43ab-a745-f8d3727084f6",
   "metadata": {
    "execution": {
     "iopub.execute_input": "2022-05-20T21:38:40.680845Z",
     "iopub.status.busy": "2022-05-20T21:38:40.679845Z",
     "iopub.status.idle": "2022-05-20T21:38:40.693846Z",
     "shell.execute_reply": "2022-05-20T21:38:40.692845Z",
     "shell.execute_reply.started": "2022-05-20T21:38:40.679845Z"
    },
    "tags": []
   },
   "outputs": [],
   "source": [
    "market_close = system['Adj Close']\n",
    "market_return = (market_close - market_close.shift(1)) / market_close.shift(1)\n",
    "market_return = market_return.dropna().rename(\"Market_Return\")"
   ]
  },
  {
   "cell_type": "markdown",
   "id": "ca407a96-62be-49cb-ac61-3a797150891f",
   "metadata": {},
   "source": [
    "### (vi) Real Estate Excess Return\n",
    "Measured by real estate sector return in excess of the market financial sector return"
   ]
  },
  {
   "cell_type": "code",
   "execution_count": 23,
   "id": "1c4c6cb3-a104-40b3-b8ac-2986ad1b07bd",
   "metadata": {
    "execution": {
     "iopub.execute_input": "2022-05-20T21:38:40.697844Z",
     "iopub.status.busy": "2022-05-20T21:38:40.697844Z",
     "iopub.status.idle": "2022-05-20T21:38:40.708849Z",
     "shell.execute_reply": "2022-05-20T21:38:40.708849Z",
     "shell.execute_reply.started": "2022-05-20T21:38:40.697844Z"
    },
    "tags": []
   },
   "outputs": [],
   "source": [
    "realEstate_close = realEstate['Adj Close']\n",
    "realEstate_return = (realEstate_close - realEstate_close.shift(1)) / realEstate_close.shift(1)\n",
    "realEstate_return = realEstate_return.dropna().rename(\"RealEstate_Return\")\n",
    "financials_close = financials['Adj Close']\n",
    "financials_return = (financials_close - financials_close.shift(1)) / financials_close.shift(1)\n",
    "financials_return = financials_return.dropna().rename(\"Financials_Return\")"
   ]
  },
  {
   "cell_type": "code",
   "execution_count": 24,
   "id": "1bcafa00-e430-450d-9d5c-e0dda551578c",
   "metadata": {
    "execution": {
     "iopub.execute_input": "2022-05-20T21:38:40.710843Z",
     "iopub.status.busy": "2022-05-20T21:38:40.710843Z",
     "iopub.status.idle": "2022-05-20T21:38:40.724844Z",
     "shell.execute_reply": "2022-05-20T21:38:40.723844Z",
     "shell.execute_reply.started": "2022-05-20T21:38:40.710843Z"
    },
    "tags": []
   },
   "outputs": [],
   "source": [
    "temp3 = pd.concat([realEstate_return, financials_return], axis = 1, join=\"outer\")\n",
    "temp3 = temp3[(temp3.index >= realEstate_return.index[0])]\n",
    "excess_return = temp3.loc[:,\"RealEstate_Return\"] - temp3.loc[:,\"Financials_Return\"]\n",
    "excess_return = excess_return.rename(\"Excess_Return\")"
   ]
  },
  {
   "cell_type": "markdown",
   "id": "f8c2e09c-87c7-427e-a55a-a38fd9628238",
   "metadata": {},
   "source": [
    "### (vii) Equity Volatility\n",
    "It can be computed as the 22 day rolling standard deviation of the daily CRSP equity market return"
   ]
  },
  {
   "cell_type": "code",
   "execution_count": 25,
   "id": "b906719c-04c8-454c-af18-a574899ac2fd",
   "metadata": {
    "execution": {
     "iopub.execute_input": "2022-05-20T21:38:40.725846Z",
     "iopub.status.busy": "2022-05-20T21:38:40.724844Z",
     "iopub.status.idle": "2022-05-20T21:38:40.739845Z",
     "shell.execute_reply": "2022-05-20T21:38:40.739845Z",
     "shell.execute_reply.started": "2022-05-20T21:38:40.725846Z"
    },
    "tags": []
   },
   "outputs": [],
   "source": [
    "equity_volatility = market_return.rolling(22).std()\n",
    "equity_volatility = equity_volatility.dropna().rename(\"Equity_Volatility\")"
   ]
  },
  {
   "cell_type": "markdown",
   "id": "3650b8c7-9ce7-4b49-aeac-145487b9effa",
   "metadata": {},
   "source": [
    "### State Variables Summary\n",
    "The spreads and spread changes are expressed in weekly basis points, and returns are in weekly percent"
   ]
  },
  {
   "cell_type": "code",
   "execution_count": 26,
   "id": "a8c9d01b-82bf-47f5-b2a8-d8ef57f26738",
   "metadata": {
    "execution": {
     "iopub.execute_input": "2022-05-20T21:38:40.741845Z",
     "iopub.status.busy": "2022-05-20T21:38:40.740844Z",
     "iopub.status.idle": "2022-05-20T21:38:40.770849Z",
     "shell.execute_reply": "2022-05-20T21:38:40.770849Z",
     "shell.execute_reply.started": "2022-05-20T21:38:40.741845Z"
    },
    "tags": []
   },
   "outputs": [],
   "source": [
    "stateVariables_D = pd.concat(\n",
    "    [\n",
    "        DTB3_change,\n",
    "        TERM_spread_change,\n",
    "        TED_spread,\n",
    "        CREDIT_spread_change,\n",
    "        market_return,\n",
    "        excess_return,\n",
    "        equity_volatility,\n",
    "    ],\n",
    "    axis=1,\n",
    "    join=\"outer\",\n",
    ")\n",
    "stateVariables_D = stateVariables_D[(stateVariables_D.index >= start) & (stateVariables_D.index <= end)]\n",
    "stateVariables_D = stateVariables_D.fillna(method = \"backfill\")"
   ]
  },
  {
   "cell_type": "code",
   "execution_count": 27,
   "id": "1689a8ad-1d65-4435-9831-201b02fa92d6",
   "metadata": {
    "execution": {
     "iopub.execute_input": "2022-05-20T21:38:40.771844Z",
     "iopub.status.busy": "2022-05-20T21:38:40.771844Z",
     "iopub.status.idle": "2022-05-20T21:38:40.865981Z",
     "shell.execute_reply": "2022-05-20T21:38:40.864980Z",
     "shell.execute_reply.started": "2022-05-20T21:38:40.771844Z"
    },
    "tags": []
   },
   "outputs": [],
   "source": [
    "DTB3_change_W_bp = stateVariables_D.loc[:, \"3MO_Yield_Change\"].resample(\"W\").sum() * 10000\n",
    "TERM_spread_change_W_bp = stateVariables_D.loc[:, \"Term_Spread_Change\"].resample(\"W\").mean() * 10000\n",
    "TED_spread_W_bp = stateVariables_D.loc[:, \"TED_Spread\"].resample(\"W\").mean() * 10000\n",
    "CREDIT_spread_change_W_bp = stateVariables_D.loc[:, \"Credit_Spread_Change\"].resample(\"W\").mean() * 10000\n",
    "market_return_W_pct = ((stateVariables_D.loc[:, \"Market_Return\"] + 1).resample(\"W\").prod() - 1) * 100\n",
    "excess_return_W_pct = ((stateVariables_D.loc[:, \"Excess_Return\"] + 1).resample(\"W\").prod() - 1) * 100\n",
    "equity_volatility_W_pct = stateVariables_D.loc[:, \"Equity_Volatility\"].resample(\"W\").max() * 100\n",
    "\n",
    "stateVariables_W = pd.concat(\n",
    "    [\n",
    "        DTB3_change_W_bp,\n",
    "        TERM_spread_change_W_bp,\n",
    "        TED_spread_W_bp,\n",
    "        CREDIT_spread_change_W_bp,\n",
    "        market_return_W_pct,\n",
    "        excess_return_W_pct,\n",
    "        equity_volatility_W_pct,\n",
    "    ],\n",
    "    axis=1,\n",
    "    join=\"outer\",\n",
    ")"
   ]
  },
  {
   "cell_type": "code",
   "execution_count": 28,
   "id": "62cba56d-e514-448f-87dd-cbc672f6c6ba",
   "metadata": {
    "execution": {
     "iopub.execute_input": "2022-05-20T21:38:40.867982Z",
     "iopub.status.busy": "2022-05-20T21:38:40.866981Z",
     "iopub.status.idle": "2022-05-20T21:38:40.926981Z",
     "shell.execute_reply": "2022-05-20T21:38:40.925981Z",
     "shell.execute_reply.started": "2022-05-20T21:38:40.867982Z"
    },
    "tags": []
   },
   "outputs": [
    {
     "data": {
      "text/html": [
       "<div>\n",
       "<style scoped>\n",
       "    .dataframe tbody tr th:only-of-type {\n",
       "        vertical-align: middle;\n",
       "    }\n",
       "\n",
       "    .dataframe tbody tr th {\n",
       "        vertical-align: top;\n",
       "    }\n",
       "\n",
       "    .dataframe thead th {\n",
       "        text-align: right;\n",
       "    }\n",
       "</style>\n",
       "<table border=\"1\" class=\"dataframe\">\n",
       "  <thead>\n",
       "    <tr style=\"text-align: right;\">\n",
       "      <th></th>\n",
       "      <th>3MO_Yield_Change</th>\n",
       "      <th>Term_Spread_Change</th>\n",
       "      <th>TED_Spread</th>\n",
       "      <th>Credit_Spread_Change</th>\n",
       "      <th>Market_Return</th>\n",
       "      <th>Excess_Return</th>\n",
       "      <th>Equity_Volatility</th>\n",
       "    </tr>\n",
       "  </thead>\n",
       "  <tbody>\n",
       "    <tr>\n",
       "      <th>2003-01-05</th>\n",
       "      <td>0.0</td>\n",
       "      <td>-5.0</td>\n",
       "      <td>18.25</td>\n",
       "      <td>-2.25</td>\n",
       "      <td>6.750725</td>\n",
       "      <td>-3.224556</td>\n",
       "      <td>1.328661</td>\n",
       "    </tr>\n",
       "    <tr>\n",
       "      <th>2003-01-12</th>\n",
       "      <td>-2.0</td>\n",
       "      <td>-2.4</td>\n",
       "      <td>20.60</td>\n",
       "      <td>-1.60</td>\n",
       "      <td>2.088949</td>\n",
       "      <td>-4.375004</td>\n",
       "      <td>1.452672</td>\n",
       "    </tr>\n",
       "    <tr>\n",
       "      <th>2003-01-19</th>\n",
       "      <td>-2.0</td>\n",
       "      <td>2.2</td>\n",
       "      <td>20.00</td>\n",
       "      <td>-0.40</td>\n",
       "      <td>-2.780381</td>\n",
       "      <td>-2.196587</td>\n",
       "      <td>1.375343</td>\n",
       "    </tr>\n",
       "    <tr>\n",
       "      <th>2003-01-26</th>\n",
       "      <td>-2.0</td>\n",
       "      <td>1.6</td>\n",
       "      <td>20.00</td>\n",
       "      <td>0.80</td>\n",
       "      <td>-5.977730</td>\n",
       "      <td>4.543715</td>\n",
       "      <td>1.423311</td>\n",
       "    </tr>\n",
       "    <tr>\n",
       "      <th>2003-02-02</th>\n",
       "      <td>2.0</td>\n",
       "      <td>0.0</td>\n",
       "      <td>18.60</td>\n",
       "      <td>-3.40</td>\n",
       "      <td>-0.661715</td>\n",
       "      <td>2.086821</td>\n",
       "      <td>1.564426</td>\n",
       "    </tr>\n",
       "    <tr>\n",
       "      <th>...</th>\n",
       "      <td>...</td>\n",
       "      <td>...</td>\n",
       "      <td>...</td>\n",
       "      <td>...</td>\n",
       "      <td>...</td>\n",
       "      <td>...</td>\n",
       "      <td>...</td>\n",
       "    </tr>\n",
       "    <tr>\n",
       "      <th>2021-12-05</th>\n",
       "      <td>0.0</td>\n",
       "      <td>2.6</td>\n",
       "      <td>12.00</td>\n",
       "      <td>-0.20</td>\n",
       "      <td>-1.222951</td>\n",
       "      <td>2.054350</td>\n",
       "      <td>0.901189</td>\n",
       "    </tr>\n",
       "    <tr>\n",
       "      <th>2021-12-12</th>\n",
       "      <td>0.0</td>\n",
       "      <td>-3.4</td>\n",
       "      <td>13.60</td>\n",
       "      <td>0.40</td>\n",
       "      <td>3.824887</td>\n",
       "      <td>0.099011</td>\n",
       "      <td>1.058448</td>\n",
       "    </tr>\n",
       "    <tr>\n",
       "      <th>2021-12-19</th>\n",
       "      <td>-1.0</td>\n",
       "      <td>1.0</td>\n",
       "      <td>15.80</td>\n",
       "      <td>0.80</td>\n",
       "      <td>-1.939293</td>\n",
       "      <td>2.856688</td>\n",
       "      <td>1.154123</td>\n",
       "    </tr>\n",
       "    <tr>\n",
       "      <th>2021-12-26</th>\n",
       "      <td>3.0</td>\n",
       "      <td>-1.2</td>\n",
       "      <td>14.00</td>\n",
       "      <td>-0.20</td>\n",
       "      <td>3.691043</td>\n",
       "      <td>0.416471</td>\n",
       "      <td>1.296710</td>\n",
       "    </tr>\n",
       "    <tr>\n",
       "      <th>2022-01-02</th>\n",
       "      <td>-2.0</td>\n",
       "      <td>-0.4</td>\n",
       "      <td>16.40</td>\n",
       "      <td>-0.20</td>\n",
       "      <td>0.854675</td>\n",
       "      <td>3.131244</td>\n",
       "      <td>1.297107</td>\n",
       "    </tr>\n",
       "  </tbody>\n",
       "</table>\n",
       "<p>992 rows × 7 columns</p>\n",
       "</div>"
      ],
      "text/plain": [
       "            3MO_Yield_Change  Term_Spread_Change  TED_Spread  \\\n",
       "2003-01-05               0.0                -5.0       18.25   \n",
       "2003-01-12              -2.0                -2.4       20.60   \n",
       "2003-01-19              -2.0                 2.2       20.00   \n",
       "2003-01-26              -2.0                 1.6       20.00   \n",
       "2003-02-02               2.0                 0.0       18.60   \n",
       "...                      ...                 ...         ...   \n",
       "2021-12-05               0.0                 2.6       12.00   \n",
       "2021-12-12               0.0                -3.4       13.60   \n",
       "2021-12-19              -1.0                 1.0       15.80   \n",
       "2021-12-26               3.0                -1.2       14.00   \n",
       "2022-01-02              -2.0                -0.4       16.40   \n",
       "\n",
       "            Credit_Spread_Change  Market_Return  Excess_Return  \\\n",
       "2003-01-05                 -2.25       6.750725      -3.224556   \n",
       "2003-01-12                 -1.60       2.088949      -4.375004   \n",
       "2003-01-19                 -0.40      -2.780381      -2.196587   \n",
       "2003-01-26                  0.80      -5.977730       4.543715   \n",
       "2003-02-02                 -3.40      -0.661715       2.086821   \n",
       "...                          ...            ...            ...   \n",
       "2021-12-05                 -0.20      -1.222951       2.054350   \n",
       "2021-12-12                  0.40       3.824887       0.099011   \n",
       "2021-12-19                  0.80      -1.939293       2.856688   \n",
       "2021-12-26                 -0.20       3.691043       0.416471   \n",
       "2022-01-02                 -0.20       0.854675       3.131244   \n",
       "\n",
       "            Equity_Volatility  \n",
       "2003-01-05           1.328661  \n",
       "2003-01-12           1.452672  \n",
       "2003-01-19           1.375343  \n",
       "2003-01-26           1.423311  \n",
       "2003-02-02           1.564426  \n",
       "...                       ...  \n",
       "2021-12-05           0.901189  \n",
       "2021-12-12           1.058448  \n",
       "2021-12-19           1.154123  \n",
       "2021-12-26           1.296710  \n",
       "2022-01-02           1.297107  \n",
       "\n",
       "[992 rows x 7 columns]"
      ]
     },
     "execution_count": 28,
     "metadata": {},
     "output_type": "execute_result"
    },
    {
     "data": {
      "text/html": [
       "<div>\n",
       "<style scoped>\n",
       "    .dataframe tbody tr th:only-of-type {\n",
       "        vertical-align: middle;\n",
       "    }\n",
       "\n",
       "    .dataframe tbody tr th {\n",
       "        vertical-align: top;\n",
       "    }\n",
       "\n",
       "    .dataframe thead th {\n",
       "        text-align: right;\n",
       "    }\n",
       "</style>\n",
       "<table border=\"1\" class=\"dataframe\">\n",
       "  <thead>\n",
       "    <tr style=\"text-align: right;\">\n",
       "      <th></th>\n",
       "      <th>3MO_Yield_Change</th>\n",
       "      <th>Term_Spread_Change</th>\n",
       "      <th>TED_Spread</th>\n",
       "      <th>Credit_Spread_Change</th>\n",
       "      <th>Market_Return</th>\n",
       "      <th>Excess_Return</th>\n",
       "      <th>Equity_Volatility</th>\n",
       "    </tr>\n",
       "  </thead>\n",
       "  <tbody>\n",
       "    <tr>\n",
       "      <th>mean</th>\n",
       "      <td>-0.114919</td>\n",
       "      <td>0.033065</td>\n",
       "      <td>40.405595</td>\n",
       "      <td>-0.033317</td>\n",
       "      <td>0.218303</td>\n",
       "      <td>0.190356</td>\n",
       "      <td>1.031359</td>\n",
       "    </tr>\n",
       "    <tr>\n",
       "      <th>std</th>\n",
       "      <td>8.236839</td>\n",
       "      <td>2.602870</td>\n",
       "      <td>41.010937</td>\n",
       "      <td>1.709793</td>\n",
       "      <td>2.518130</td>\n",
       "      <td>3.662225</td>\n",
       "      <td>0.733573</td>\n",
       "    </tr>\n",
       "    <tr>\n",
       "      <th>min</th>\n",
       "      <td>-80.000000</td>\n",
       "      <td>-14.600000</td>\n",
       "      <td>6.600000</td>\n",
       "      <td>-7.400000</td>\n",
       "      <td>-18.195465</td>\n",
       "      <td>-18.888800</td>\n",
       "      <td>0.233922</td>\n",
       "    </tr>\n",
       "    <tr>\n",
       "      <th>25%</th>\n",
       "      <td>-1.000000</td>\n",
       "      <td>-1.400000</td>\n",
       "      <td>20.200000</td>\n",
       "      <td>-0.800000</td>\n",
       "      <td>-0.838042</td>\n",
       "      <td>-1.454589</td>\n",
       "      <td>0.623337</td>\n",
       "    </tr>\n",
       "    <tr>\n",
       "      <th>75%</th>\n",
       "      <td>2.000000</td>\n",
       "      <td>1.600000</td>\n",
       "      <td>42.600000</td>\n",
       "      <td>0.600000</td>\n",
       "      <td>1.470086</td>\n",
       "      <td>1.742171</td>\n",
       "      <td>1.189720</td>\n",
       "    </tr>\n",
       "    <tr>\n",
       "      <th>max</th>\n",
       "      <td>69.000000</td>\n",
       "      <td>11.600000</td>\n",
       "      <td>412.000000</td>\n",
       "      <td>18.600000</td>\n",
       "      <td>13.106071</td>\n",
       "      <td>19.366352</td>\n",
       "      <td>5.960092</td>\n",
       "    </tr>\n",
       "  </tbody>\n",
       "</table>\n",
       "</div>"
      ],
      "text/plain": [
       "      3MO_Yield_Change  Term_Spread_Change  TED_Spread  Credit_Spread_Change  \\\n",
       "mean         -0.114919            0.033065   40.405595             -0.033317   \n",
       "std           8.236839            2.602870   41.010937              1.709793   \n",
       "min         -80.000000          -14.600000    6.600000             -7.400000   \n",
       "25%          -1.000000           -1.400000   20.200000             -0.800000   \n",
       "75%           2.000000            1.600000   42.600000              0.600000   \n",
       "max          69.000000           11.600000  412.000000             18.600000   \n",
       "\n",
       "      Market_Return  Excess_Return  Equity_Volatility  \n",
       "mean       0.218303       0.190356           1.031359  \n",
       "std        2.518130       3.662225           0.733573  \n",
       "min      -18.195465     -18.888800           0.233922  \n",
       "25%       -0.838042      -1.454589           0.623337  \n",
       "75%        1.470086       1.742171           1.189720  \n",
       "max       13.106071      19.366352           5.960092  "
      ]
     },
     "execution_count": 28,
     "metadata": {},
     "output_type": "execute_result"
    }
   ],
   "source": [
    "stateVariables_W\n",
    "stateVariables_W.describe().iloc[[1,2,3,4,6,7], :]"
   ]
  },
  {
   "cell_type": "markdown",
   "id": "513c7acc-332c-4b8e-8bf8-0b242d9e586c",
   "metadata": {},
   "source": [
    "## Measuring Losses"
   ]
  },
  {
   "cell_type": "markdown",
   "id": "ea469b90-c1bd-4af1-bb50-0dec288e3b23",
   "metadata": {
    "execution": {
     "iopub.execute_input": "2022-04-27T02:30:03.778139Z",
     "iopub.status.busy": "2022-04-27T02:30:03.778139Z",
     "iopub.status.idle": "2022-04-27T02:30:03.782125Z",
     "shell.execute_reply": "2022-04-27T02:30:03.782125Z",
     "shell.execute_reply.started": "2022-04-27T02:30:03.778139Z"
    }
   },
   "source": [
    "### Market Losses"
   ]
  },
  {
   "cell_type": "code",
   "execution_count": 29,
   "id": "c0491c10-948f-4664-9555-fdc5920b83a2",
   "metadata": {
    "execution": {
     "iopub.execute_input": "2022-05-20T21:38:40.927981Z",
     "iopub.status.busy": "2022-05-20T21:38:40.926981Z",
     "iopub.status.idle": "2022-05-20T21:38:40.957981Z",
     "shell.execute_reply": "2022-05-20T21:38:40.956980Z",
     "shell.execute_reply.started": "2022-05-20T21:38:40.927981Z"
    },
    "tags": []
   },
   "outputs": [],
   "source": [
    "market_losses = (market_close.shift(1) - market_close) / market_close.shift(1)\n",
    "market_losses = market_losses[(market_losses.index >= start) & (market_losses.index <= end)].dropna()\n",
    "market_losses_W_pct = (100 * (1 - (1 - market_losses).resample(\"W\").prod())).rename(\"Market_Losses\")\n",
    "market_losses_W_pct = pd.DataFrame(market_losses_W_pct)"
   ]
  },
  {
   "cell_type": "code",
   "execution_count": 30,
   "id": "0581fad6-bb18-4145-80e0-25817c579baf",
   "metadata": {
    "execution": {
     "iopub.execute_input": "2022-05-20T21:38:40.958981Z",
     "iopub.status.busy": "2022-05-20T21:38:40.958981Z",
     "iopub.status.idle": "2022-05-20T21:38:40.972980Z",
     "shell.execute_reply": "2022-05-20T21:38:40.972980Z",
     "shell.execute_reply.started": "2022-05-20T21:38:40.958981Z"
    },
    "tags": []
   },
   "outputs": [
    {
     "data": {
      "text/html": [
       "<div>\n",
       "<style scoped>\n",
       "    .dataframe tbody tr th:only-of-type {\n",
       "        vertical-align: middle;\n",
       "    }\n",
       "\n",
       "    .dataframe tbody tr th {\n",
       "        vertical-align: top;\n",
       "    }\n",
       "\n",
       "    .dataframe thead th {\n",
       "        text-align: right;\n",
       "    }\n",
       "</style>\n",
       "<table border=\"1\" class=\"dataframe\">\n",
       "  <thead>\n",
       "    <tr style=\"text-align: right;\">\n",
       "      <th></th>\n",
       "      <th>Market_Losses</th>\n",
       "    </tr>\n",
       "  </thead>\n",
       "  <tbody>\n",
       "    <tr>\n",
       "      <th>mean</th>\n",
       "      <td>-0.199191</td>\n",
       "    </tr>\n",
       "    <tr>\n",
       "      <th>std</th>\n",
       "      <td>2.381427</td>\n",
       "    </tr>\n",
       "    <tr>\n",
       "      <th>min</th>\n",
       "      <td>-12.101749</td>\n",
       "    </tr>\n",
       "    <tr>\n",
       "      <th>25%</th>\n",
       "      <td>-1.419585</td>\n",
       "    </tr>\n",
       "    <tr>\n",
       "      <th>75%</th>\n",
       "      <td>0.815965</td>\n",
       "    </tr>\n",
       "    <tr>\n",
       "      <th>max</th>\n",
       "      <td>18.195465</td>\n",
       "    </tr>\n",
       "  </tbody>\n",
       "</table>\n",
       "</div>"
      ],
      "text/plain": [
       "      Market_Losses\n",
       "mean      -0.199191\n",
       "std        2.381427\n",
       "min      -12.101749\n",
       "25%       -1.419585\n",
       "75%        0.815965\n",
       "max       18.195465"
      ]
     },
     "execution_count": 30,
     "metadata": {},
     "output_type": "execute_result"
    }
   ],
   "source": [
    "market_losses_W_pct.describe().iloc[[1,2,3,4,6,7], :]"
   ]
  },
  {
   "cell_type": "markdown",
   "id": "e800f123-6145-4205-9478-7c68504e989b",
   "metadata": {},
   "source": [
    "### Stocks Losses"
   ]
  },
  {
   "cell_type": "code",
   "execution_count": 31,
   "id": "2b30c745-bf53-472c-b4c7-39c14fcdfc93",
   "metadata": {
    "execution": {
     "iopub.execute_input": "2022-05-20T21:38:40.973980Z",
     "iopub.status.busy": "2022-05-20T21:38:40.973980Z",
     "iopub.status.idle": "2022-05-20T21:38:45.843720Z",
     "shell.execute_reply": "2022-05-20T21:38:45.843720Z",
     "shell.execute_reply.started": "2022-05-20T21:38:40.973980Z"
    },
    "tags": []
   },
   "outputs": [],
   "source": [
    "stocks_losses_W_pct = {}\n",
    "for stock in stock_data.keys():\n",
    "    stock_close = stock_data[stock]['Adj Close']\n",
    "    stock_losses = (stock_close.shift(1) - stock_close) / stock_close.shift(1)\n",
    "    stock_losses = stock_losses[(stock_losses.index >= start) & (stock_losses.index <= end)].dropna()\n",
    "    stocks_losses_W_pct[stock] = (100 * (1 - (1 - stock_losses).resample(\"W\").prod()))\n",
    "stocks_losses_W_pct = pd.DataFrame(stocks_losses_W_pct)\n",
    "stocks_losses_W_pct = stocks_losses_W_pct.loc[: ,(stocks_losses_W_pct.isna().sum(axis=0) < 750)]"
   ]
  },
  {
   "cell_type": "code",
   "execution_count": 32,
   "id": "ef098ea1-44d6-4c8b-b698-d92dd44eacb6",
   "metadata": {
    "execution": {
     "iopub.execute_input": "2022-05-20T21:38:45.843720Z",
     "iopub.status.busy": "2022-05-20T21:38:45.843720Z",
     "iopub.status.idle": "2022-05-20T21:38:46.394575Z",
     "shell.execute_reply": "2022-05-20T21:38:46.393655Z",
     "shell.execute_reply.started": "2022-05-20T21:38:45.843720Z"
    },
    "tags": []
   },
   "outputs": [
    {
     "data": {
      "text/html": [
       "<div>\n",
       "<style scoped>\n",
       "    .dataframe tbody tr th:only-of-type {\n",
       "        vertical-align: middle;\n",
       "    }\n",
       "\n",
       "    .dataframe tbody tr th {\n",
       "        vertical-align: top;\n",
       "    }\n",
       "\n",
       "    .dataframe thead th {\n",
       "        text-align: right;\n",
       "    }\n",
       "</style>\n",
       "<table border=\"1\" class=\"dataframe\">\n",
       "  <thead>\n",
       "    <tr style=\"text-align: right;\">\n",
       "      <th></th>\n",
       "      <th>MMM</th>\n",
       "      <th>AOS</th>\n",
       "      <th>ABT</th>\n",
       "      <th>ABBV</th>\n",
       "      <th>ABMD</th>\n",
       "      <th>ACN</th>\n",
       "      <th>ATVI</th>\n",
       "      <th>ADM</th>\n",
       "      <th>ADBE</th>\n",
       "      <th>ADP</th>\n",
       "      <th>...</th>\n",
       "      <th>WMB</th>\n",
       "      <th>WTW</th>\n",
       "      <th>WYNN</th>\n",
       "      <th>XEL</th>\n",
       "      <th>XYL</th>\n",
       "      <th>YUM</th>\n",
       "      <th>ZBRA</th>\n",
       "      <th>ZBH</th>\n",
       "      <th>ZION</th>\n",
       "      <th>ZTS</th>\n",
       "    </tr>\n",
       "  </thead>\n",
       "  <tbody>\n",
       "    <tr>\n",
       "      <th>count</th>\n",
       "      <td>992.000000</td>\n",
       "      <td>992.000000</td>\n",
       "      <td>992.000000</td>\n",
       "      <td>470.000000</td>\n",
       "      <td>992.000000</td>\n",
       "      <td>992.000000</td>\n",
       "      <td>992.000000</td>\n",
       "      <td>992.000000</td>\n",
       "      <td>992.000000</td>\n",
       "      <td>992.000000</td>\n",
       "      <td>...</td>\n",
       "      <td>992.000000</td>\n",
       "      <td>992.000000</td>\n",
       "      <td>992.000000</td>\n",
       "      <td>992.000000</td>\n",
       "      <td>534.000000</td>\n",
       "      <td>992.000000</td>\n",
       "      <td>992.000000</td>\n",
       "      <td>992.000000</td>\n",
       "      <td>992.000000</td>\n",
       "      <td>465.000000</td>\n",
       "    </tr>\n",
       "    <tr>\n",
       "      <th>mean</th>\n",
       "      <td>-0.199544</td>\n",
       "      <td>-0.419284</td>\n",
       "      <td>-0.303941</td>\n",
       "      <td>-0.443523</td>\n",
       "      <td>-0.714064</td>\n",
       "      <td>-0.407798</td>\n",
       "      <td>-0.478494</td>\n",
       "      <td>-0.291316</td>\n",
       "      <td>-0.471637</td>\n",
       "      <td>-0.299679</td>\n",
       "      <td>...</td>\n",
       "      <td>-0.500489</td>\n",
       "      <td>-0.217582</td>\n",
       "      <td>-0.495617</td>\n",
       "      <td>-0.291759</td>\n",
       "      <td>-0.387933</td>\n",
       "      <td>-0.369603</td>\n",
       "      <td>-0.429062</td>\n",
       "      <td>-0.198189</td>\n",
       "      <td>-0.274264</td>\n",
       "      <td>-0.504537</td>\n",
       "    </tr>\n",
       "    <tr>\n",
       "      <th>std</th>\n",
       "      <td>2.912554</td>\n",
       "      <td>4.256573</td>\n",
       "      <td>2.914373</td>\n",
       "      <td>3.927986</td>\n",
       "      <td>7.074865</td>\n",
       "      <td>3.457911</td>\n",
       "      <td>4.517324</td>\n",
       "      <td>3.881790</td>\n",
       "      <td>4.126348</td>\n",
       "      <td>2.998530</td>\n",
       "      <td>...</td>\n",
       "      <td>5.697666</td>\n",
       "      <td>3.354330</td>\n",
       "      <td>7.124722</td>\n",
       "      <td>2.498282</td>\n",
       "      <td>3.500091</td>\n",
       "      <td>3.402942</td>\n",
       "      <td>4.686383</td>\n",
       "      <td>3.845529</td>\n",
       "      <td>6.524991</td>\n",
       "      <td>3.048484</td>\n",
       "    </tr>\n",
       "    <tr>\n",
       "      <th>min</th>\n",
       "      <td>-14.750158</td>\n",
       "      <td>-25.440581</td>\n",
       "      <td>-12.153672</td>\n",
       "      <td>-18.295588</td>\n",
       "      <td>-35.607943</td>\n",
       "      <td>-16.937248</td>\n",
       "      <td>-20.948062</td>\n",
       "      <td>-18.576083</td>\n",
       "      <td>-16.315626</td>\n",
       "      <td>-17.240762</td>\n",
       "      <td>...</td>\n",
       "      <td>-37.692362</td>\n",
       "      <td>-24.781986</td>\n",
       "      <td>-65.072373</td>\n",
       "      <td>-16.077419</td>\n",
       "      <td>-14.611565</td>\n",
       "      <td>-26.966832</td>\n",
       "      <td>-22.137207</td>\n",
       "      <td>-19.943480</td>\n",
       "      <td>-90.102764</td>\n",
       "      <td>-12.337504</td>\n",
       "    </tr>\n",
       "    <tr>\n",
       "      <th>25%</th>\n",
       "      <td>-1.887679</td>\n",
       "      <td>-2.691500</td>\n",
       "      <td>-1.864045</td>\n",
       "      <td>-2.463335</td>\n",
       "      <td>-3.962097</td>\n",
       "      <td>-2.211375</td>\n",
       "      <td>-3.024036</td>\n",
       "      <td>-2.330600</td>\n",
       "      <td>-2.758453</td>\n",
       "      <td>-1.882372</td>\n",
       "      <td>...</td>\n",
       "      <td>-3.054932</td>\n",
       "      <td>-1.897697</td>\n",
       "      <td>-3.620902</td>\n",
       "      <td>-1.681247</td>\n",
       "      <td>-2.289957</td>\n",
       "      <td>-2.274959</td>\n",
       "      <td>-2.920982</td>\n",
       "      <td>-2.192487</td>\n",
       "      <td>-2.634621</td>\n",
       "      <td>-2.176463</td>\n",
       "    </tr>\n",
       "    <tr>\n",
       "      <th>50%</th>\n",
       "      <td>-0.279004</td>\n",
       "      <td>-0.416808</td>\n",
       "      <td>-0.248270</td>\n",
       "      <td>-0.434629</td>\n",
       "      <td>-0.389338</td>\n",
       "      <td>-0.549010</td>\n",
       "      <td>-0.446563</td>\n",
       "      <td>-0.373434</td>\n",
       "      <td>-0.405585</td>\n",
       "      <td>-0.365615</td>\n",
       "      <td>...</td>\n",
       "      <td>-0.422870</td>\n",
       "      <td>-0.197354</td>\n",
       "      <td>-0.297814</td>\n",
       "      <td>-0.412523</td>\n",
       "      <td>-0.665449</td>\n",
       "      <td>-0.373939</td>\n",
       "      <td>-0.380421</td>\n",
       "      <td>-0.222093</td>\n",
       "      <td>-0.267681</td>\n",
       "      <td>-0.663276</td>\n",
       "    </tr>\n",
       "    <tr>\n",
       "      <th>75%</th>\n",
       "      <td>1.234264</td>\n",
       "      <td>1.651926</td>\n",
       "      <td>1.369727</td>\n",
       "      <td>1.585600</td>\n",
       "      <td>3.043722</td>\n",
       "      <td>1.431864</td>\n",
       "      <td>1.962418</td>\n",
       "      <td>1.729511</td>\n",
       "      <td>1.749028</td>\n",
       "      <td>1.239161</td>\n",
       "      <td>...</td>\n",
       "      <td>2.111001</td>\n",
       "      <td>1.391660</td>\n",
       "      <td>2.890544</td>\n",
       "      <td>1.064885</td>\n",
       "      <td>1.270873</td>\n",
       "      <td>1.437903</td>\n",
       "      <td>2.217298</td>\n",
       "      <td>1.666345</td>\n",
       "      <td>2.323770</td>\n",
       "      <td>1.282857</td>\n",
       "    </tr>\n",
       "    <tr>\n",
       "      <th>max</th>\n",
       "      <td>16.006208</td>\n",
       "      <td>19.995762</td>\n",
       "      <td>16.717678</td>\n",
       "      <td>19.386207</td>\n",
       "      <td>30.102969</td>\n",
       "      <td>16.567493</td>\n",
       "      <td>23.443226</td>\n",
       "      <td>19.055919</td>\n",
       "      <td>19.501330</td>\n",
       "      <td>22.449820</td>\n",
       "      <td>...</td>\n",
       "      <td>27.071470</td>\n",
       "      <td>20.723672</td>\n",
       "      <td>36.387347</td>\n",
       "      <td>24.251930</td>\n",
       "      <td>16.957845</td>\n",
       "      <td>25.975029</td>\n",
       "      <td>22.754254</td>\n",
       "      <td>24.252032</td>\n",
       "      <td>30.843141</td>\n",
       "      <td>19.556899</td>\n",
       "    </tr>\n",
       "  </tbody>\n",
       "</table>\n",
       "<p>8 rows × 493 columns</p>\n",
       "</div>"
      ],
      "text/plain": [
       "              MMM         AOS         ABT        ABBV        ABMD         ACN  \\\n",
       "count  992.000000  992.000000  992.000000  470.000000  992.000000  992.000000   \n",
       "mean    -0.199544   -0.419284   -0.303941   -0.443523   -0.714064   -0.407798   \n",
       "std      2.912554    4.256573    2.914373    3.927986    7.074865    3.457911   \n",
       "min    -14.750158  -25.440581  -12.153672  -18.295588  -35.607943  -16.937248   \n",
       "25%     -1.887679   -2.691500   -1.864045   -2.463335   -3.962097   -2.211375   \n",
       "50%     -0.279004   -0.416808   -0.248270   -0.434629   -0.389338   -0.549010   \n",
       "75%      1.234264    1.651926    1.369727    1.585600    3.043722    1.431864   \n",
       "max     16.006208   19.995762   16.717678   19.386207   30.102969   16.567493   \n",
       "\n",
       "             ATVI         ADM        ADBE         ADP  ...         WMB  \\\n",
       "count  992.000000  992.000000  992.000000  992.000000  ...  992.000000   \n",
       "mean    -0.478494   -0.291316   -0.471637   -0.299679  ...   -0.500489   \n",
       "std      4.517324    3.881790    4.126348    2.998530  ...    5.697666   \n",
       "min    -20.948062  -18.576083  -16.315626  -17.240762  ...  -37.692362   \n",
       "25%     -3.024036   -2.330600   -2.758453   -1.882372  ...   -3.054932   \n",
       "50%     -0.446563   -0.373434   -0.405585   -0.365615  ...   -0.422870   \n",
       "75%      1.962418    1.729511    1.749028    1.239161  ...    2.111001   \n",
       "max     23.443226   19.055919   19.501330   22.449820  ...   27.071470   \n",
       "\n",
       "              WTW        WYNN         XEL         XYL         YUM        ZBRA  \\\n",
       "count  992.000000  992.000000  992.000000  534.000000  992.000000  992.000000   \n",
       "mean    -0.217582   -0.495617   -0.291759   -0.387933   -0.369603   -0.429062   \n",
       "std      3.354330    7.124722    2.498282    3.500091    3.402942    4.686383   \n",
       "min    -24.781986  -65.072373  -16.077419  -14.611565  -26.966832  -22.137207   \n",
       "25%     -1.897697   -3.620902   -1.681247   -2.289957   -2.274959   -2.920982   \n",
       "50%     -0.197354   -0.297814   -0.412523   -0.665449   -0.373939   -0.380421   \n",
       "75%      1.391660    2.890544    1.064885    1.270873    1.437903    2.217298   \n",
       "max     20.723672   36.387347   24.251930   16.957845   25.975029   22.754254   \n",
       "\n",
       "              ZBH        ZION         ZTS  \n",
       "count  992.000000  992.000000  465.000000  \n",
       "mean    -0.198189   -0.274264   -0.504537  \n",
       "std      3.845529    6.524991    3.048484  \n",
       "min    -19.943480  -90.102764  -12.337504  \n",
       "25%     -2.192487   -2.634621   -2.176463  \n",
       "50%     -0.222093   -0.267681   -0.663276  \n",
       "75%      1.666345    2.323770    1.282857  \n",
       "max     24.252032   30.843141   19.556899  \n",
       "\n",
       "[8 rows x 493 columns]"
      ]
     },
     "execution_count": 32,
     "metadata": {},
     "output_type": "execute_result"
    }
   ],
   "source": [
    "stocks_losses_W_pct.describe()"
   ]
  }
 ],
 "metadata": {
  "kernelspec": {
   "display_name": "Python 3 (ipykernel)",
   "language": "python",
   "name": "python3"
  },
  "language_info": {
   "codemirror_mode": {
    "name": "ipython",
    "version": 3
   },
   "file_extension": ".py",
   "mimetype": "text/x-python",
   "name": "python",
   "nbconvert_exporter": "python",
   "pygments_lexer": "ipython3",
   "version": "3.8.10"
  }
 },
 "nbformat": 4,
 "nbformat_minor": 5
}
